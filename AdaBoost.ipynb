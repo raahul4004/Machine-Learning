{
 "cells": [
  {
   "cell_type": "code",
   "execution_count": 1,
   "metadata": {},
   "outputs": [],
   "source": [
    "import numpy as np "
   ]
  },
  {
   "cell_type": "code",
   "execution_count": 9,
   "metadata": {},
   "outputs": [],
   "source": [
    "class DecisionStump:\n",
    "\n",
    "    def __init__(self):\n",
    "        self.polarity = 1\n",
    "        self.feature_idx = None\n",
    "        self.threshold = None \n",
    "        self.alpha = None \n",
    "    \n",
    "    def predict(self, X):\n",
    "        n_samples = X.shape[0]\n",
    "        X_column = X[:, self.feature_idx]\n",
    "\n",
    "        predictions = np.ones(n_samples)\n",
    "\n",
    "        if self.polarity == 1:\n",
    "            predictions[X_column < self.threshold] = -1\n",
    "        else:\n",
    "            predictions[X_column > self.threshold] = -1\n",
    "        \n",
    "        return predictions\n"
   ]
  },
  {
   "cell_type": "code",
   "execution_count": 10,
   "metadata": {},
   "outputs": [],
   "source": [
    "class Adaboost:\n",
    "\n",
    "    def __init__(self, n_clf = 5):\n",
    "        self.n_clf = n_clf \n",
    "\n",
    "    def fit(self, X, y):\n",
    "        n_samples, n_features = X.shape\n",
    "\n",
    "        # init weights\n",
    "        w = np.full(n_samples, (1/n_samples))\n",
    "\n",
    "        self.clfs = []\n",
    "        for _ in range(self.n_clf):\n",
    "\n",
    "            clf = DecisionStump()\n",
    "            min_error = float('inf')\n",
    "\n",
    "            for feature_i in range(n_features):\n",
    "                X_column = X[:, feature_i]\n",
    "                thresholds = np.unique(X_column)\n",
    "\n",
    "                for threshold in thresholds:\n",
    "                    p = 1\n",
    "                    predictions = np.ones(n_samples)\n",
    "                    predictions[X_column < threshold] = -1\n",
    "\n",
    "                    missclassified = w[y != predictions]\n",
    "                    error = sum(missclassified)\n",
    "                    if error > .5:\n",
    "                        error = 1 - error \n",
    "                        p = -1\n",
    "                    \n",
    "                    if error < min_error:\n",
    "                        min_error = error \n",
    "                        clf.polarity = p\n",
    "                        clf.threshold = threshold\n",
    "                        clf.feature_idx = feature_i\n",
    "\n",
    "            EPS = 1e-10\n",
    "            clf.alpha = .5 * np.log((1.0 - min_error + EPS)/ (min_error + EPS))\n",
    "\n",
    "            predictions = clf.predict(X)\n",
    "            w *= np.exp(clf.alpha * y * predictions)\n",
    "            w /= np.sum(w)\n",
    "            self.clfs.append(clf)\n",
    "\n",
    "    \n",
    "    def predict(self, X):\n",
    "        clf_preds = [clf.alpha * clf.predict(X) for clf in self.clfs]\n",
    "        y_pred = np.sign(np.sum(clf_preds, axis = 0))\n",
    "        \n",
    "        return y_pred\n",
    "\n",
    "                "
   ]
  },
  {
   "cell_type": "code",
   "execution_count": 13,
   "metadata": {},
   "outputs": [
    {
     "name": "stdout",
     "output_type": "stream",
     "text": [
      "Accuracy: 0.9122807017543859\n",
      "Accuracy: 0.9186813186813186\n"
     ]
    }
   ],
   "source": [
    "if __name__ == \"__main__\":\n",
    "    # Imports\n",
    "    from sklearn import datasets\n",
    "    from sklearn.model_selection import train_test_split\n",
    "\n",
    "    def accuracy(y_true, y_pred):\n",
    "        accuracy = np.sum(y_true == y_pred) / len(y_true)\n",
    "        return accuracy\n",
    "\n",
    "    data = datasets.load_breast_cancer()\n",
    "    X, y = data.data, data.target\n",
    "\n",
    "    y[y == 0] = -1\n",
    "\n",
    "    X_train, X_test, y_train, y_test = train_test_split(\n",
    "        X, y, test_size=0.2, random_state=5\n",
    "    )\n",
    "\n",
    "    # Adaboost classification with 5 weak classifiers\n",
    "    clf = Adaboost(n_clf=100)\n",
    "    clf.fit(X_train, y_train)\n",
    "    y_pred = clf.predict(X_test)\n",
    "\n",
    "    acctest = accuracy(y_test, y_pred)\n",
    "    print(\"Accuracy:\", acctest)\n",
    "\n",
    "    y_pred = clf.predict(X_train)\n",
    "    acctrain = accuracy(y_train, y_pred)\n",
    "    print(\"Accuracy:\", acctrain)"
   ]
  }
 ],
 "metadata": {
  "kernelspec": {
   "display_name": "Python 3",
   "language": "python",
   "name": "python3"
  },
  "language_info": {
   "codemirror_mode": {
    "name": "ipython",
    "version": 3
   },
   "file_extension": ".py",
   "mimetype": "text/x-python",
   "name": "python",
   "nbconvert_exporter": "python",
   "pygments_lexer": "ipython3",
   "version": "3.11.4"
  }
 },
 "nbformat": 4,
 "nbformat_minor": 2
}
